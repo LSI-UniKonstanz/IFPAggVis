{
 "cells": [
  {
   "cell_type": "markdown",
   "id": "dd4b4b70",
   "metadata": {},
   "source": [
    "# Basic concepts of IFP visualisation"
   ]
  },
  {
   "cell_type": "markdown",
   "id": "214455f2",
   "metadata": {},
   "source": [
    "This notebook explains how to quantify and visualise IFP within one MD simulation to compare the individual IFP with each other and should be applied after filtering and aggregation based on interaction or time."
   ]
  },
  {
   "cell_type": "code",
   "execution_count": 38,
   "id": "d078a299",
   "metadata": {},
   "outputs": [],
   "source": [
    "import pandas as pd\n",
    "from IFPAggVis.ifpaggvis import aggregate\n",
    "from IFPAggVis.ifpaggvis.visualise import plot_distance_distribution_sim_hist_line\n",
    "from IFPAggVis.ifpaggvis.visualise import plot_circle_visualisation\n",
    "from IFPAggVis.ifpaggvis.calculate import diff_function, calculate_where_diff_zero\n",
    "import timeit\n",
    "from sklearn.metrics import pairwise_distances_chunked\n",
    "import os"
   ]
  },
  {
   "cell_type": "code",
   "execution_count": 39,
   "id": "5c8ef33f",
   "metadata": {},
   "outputs": [],
   "source": [
    "file_path = \"../../data/aggregated_files/aggregation_time/\"\n",
    "outpath = \"../../data/aggregated_files/visualisations/\"\n",
    "\n",
    "ligand = 1\n",
    "step_size = 1\n",
    "filter_val_x2 = 0.2\n",
    "name_file = \"ligand_\" + str(ligand) + \"_x1_filter_\" + str(step_size) + \"_x2_filter_\" + str(filter_val_x2) + \"_time_based_aggregation\"\n",
    "\n",
    "\n",
    "# Check if outpath exists, otherwise create new directory\n",
    "if not os.path.exists(outpath):\n",
    "    os.makedirs(outpath)\n",
    "    print(outpath + \" was created!\")"
   ]
  },
  {
   "cell_type": "code",
   "execution_count": 40,
   "id": "0b7858db",
   "metadata": {},
   "outputs": [],
   "source": [
    "infile_temp = file_path + name_file + \".csv\""
   ]
  },
  {
   "cell_type": "code",
   "execution_count": 41,
   "id": "d6a29419",
   "metadata": {},
   "outputs": [
    {
     "data": {
      "text/plain": [
       "'../../data/aggregated_files/aggregation_time/ligand_1_x1_filter_1_x2_filter_0.2_time_based_aggregation.csv'"
      ]
     },
     "execution_count": 41,
     "metadata": {},
     "output_type": "execute_result"
    }
   ],
   "source": [
    "infile_temp"
   ]
  },
  {
   "cell_type": "code",
   "execution_count": 42,
   "id": "f548d17b",
   "metadata": {},
   "outputs": [],
   "source": [
    "df_temp_agg = pd.read_csv(infile_temp, index_col=0)"
   ]
  },
  {
   "cell_type": "code",
   "execution_count": 43,
   "id": "1ba84b9c",
   "metadata": {},
   "outputs": [
    {
     "data": {
      "text/html": [
       "<div>\n",
       "<style scoped>\n",
       "    .dataframe tbody tr th:only-of-type {\n",
       "        vertical-align: middle;\n",
       "    }\n",
       "\n",
       "    .dataframe tbody tr th {\n",
       "        vertical-align: top;\n",
       "    }\n",
       "\n",
       "    .dataframe thead th {\n",
       "        text-align: right;\n",
       "    }\n",
       "</style>\n",
       "<table border=\"1\" class=\"dataframe\">\n",
       "  <thead>\n",
       "    <tr style=\"text-align: right;\">\n",
       "      <th></th>\n",
       "      <th>ARG221_Anionic</th>\n",
       "      <th>ARG221_HBAcceptor</th>\n",
       "      <th>ARG221_HBDonor</th>\n",
       "      <th>ARG221_Hydrophobic</th>\n",
       "      <th>ARG96_Anionic</th>\n",
       "      <th>ARG96_HBAcceptor</th>\n",
       "      <th>ARG96_Hydrophobic</th>\n",
       "      <th>ASN124_Hydrophobic</th>\n",
       "      <th>ASP197_Hydrophobic</th>\n",
       "      <th>ASP208_Cationic</th>\n",
       "      <th>...</th>\n",
       "      <th>TYR272_HBAcceptor</th>\n",
       "      <th>TYR272_Hydrophobic</th>\n",
       "      <th>VAL195_Hydrophobic</th>\n",
       "      <th>VAL223_HBAcceptor</th>\n",
       "      <th>VAL223_HBDonor</th>\n",
       "      <th>VAL223_Hydrophobic</th>\n",
       "      <th>VAL250_HBAcceptor</th>\n",
       "      <th>VAL250_Hydrophobic</th>\n",
       "      <th>occurence</th>\n",
       "      <th>diff_to_prev</th>\n",
       "    </tr>\n",
       "  </thead>\n",
       "  <tbody>\n",
       "    <tr>\n",
       "      <th>0</th>\n",
       "      <td>0</td>\n",
       "      <td>1</td>\n",
       "      <td>0</td>\n",
       "      <td>1</td>\n",
       "      <td>1</td>\n",
       "      <td>1</td>\n",
       "      <td>0</td>\n",
       "      <td>0</td>\n",
       "      <td>0</td>\n",
       "      <td>0</td>\n",
       "      <td>...</td>\n",
       "      <td>1</td>\n",
       "      <td>1</td>\n",
       "      <td>0</td>\n",
       "      <td>0</td>\n",
       "      <td>0</td>\n",
       "      <td>1</td>\n",
       "      <td>0</td>\n",
       "      <td>1</td>\n",
       "      <td>50</td>\n",
       "      <td>[]</td>\n",
       "    </tr>\n",
       "    <tr>\n",
       "      <th>1</th>\n",
       "      <td>0</td>\n",
       "      <td>1</td>\n",
       "      <td>0</td>\n",
       "      <td>1</td>\n",
       "      <td>1</td>\n",
       "      <td>1</td>\n",
       "      <td>0</td>\n",
       "      <td>0</td>\n",
       "      <td>0</td>\n",
       "      <td>0</td>\n",
       "      <td>...</td>\n",
       "      <td>1</td>\n",
       "      <td>1</td>\n",
       "      <td>0</td>\n",
       "      <td>0</td>\n",
       "      <td>0</td>\n",
       "      <td>1</td>\n",
       "      <td>0</td>\n",
       "      <td>1</td>\n",
       "      <td>2</td>\n",
       "      <td>2</td>\n",
       "    </tr>\n",
       "    <tr>\n",
       "      <th>2</th>\n",
       "      <td>0</td>\n",
       "      <td>0</td>\n",
       "      <td>0</td>\n",
       "      <td>1</td>\n",
       "      <td>1</td>\n",
       "      <td>1</td>\n",
       "      <td>0</td>\n",
       "      <td>0</td>\n",
       "      <td>0</td>\n",
       "      <td>0</td>\n",
       "      <td>...</td>\n",
       "      <td>1</td>\n",
       "      <td>1</td>\n",
       "      <td>0</td>\n",
       "      <td>0</td>\n",
       "      <td>0</td>\n",
       "      <td>1</td>\n",
       "      <td>0</td>\n",
       "      <td>1</td>\n",
       "      <td>68</td>\n",
       "      <td>2</td>\n",
       "    </tr>\n",
       "  </tbody>\n",
       "</table>\n",
       "<p>3 rows × 62 columns</p>\n",
       "</div>"
      ],
      "text/plain": [
       "   ARG221_Anionic  ARG221_HBAcceptor  ARG221_HBDonor  ARG221_Hydrophobic  \\\n",
       "0               0                  1               0                   1   \n",
       "1               0                  1               0                   1   \n",
       "2               0                  0               0                   1   \n",
       "\n",
       "   ARG96_Anionic  ARG96_HBAcceptor  ARG96_Hydrophobic  ASN124_Hydrophobic  \\\n",
       "0              1                 1                  0                   0   \n",
       "1              1                 1                  0                   0   \n",
       "2              1                 1                  0                   0   \n",
       "\n",
       "   ASP197_Hydrophobic  ASP208_Cationic  ...  TYR272_HBAcceptor  \\\n",
       "0                   0                0  ...                  1   \n",
       "1                   0                0  ...                  1   \n",
       "2                   0                0  ...                  1   \n",
       "\n",
       "   TYR272_Hydrophobic  VAL195_Hydrophobic  VAL223_HBAcceptor  VAL223_HBDonor  \\\n",
       "0                   1                   0                  0               0   \n",
       "1                   1                   0                  0               0   \n",
       "2                   1                   0                  0               0   \n",
       "\n",
       "   VAL223_Hydrophobic  VAL250_HBAcceptor  VAL250_Hydrophobic  occurence  \\\n",
       "0                   1                  0                   1         50   \n",
       "1                   1                  0                   1          2   \n",
       "2                   1                  0                   1         68   \n",
       "\n",
       "   diff_to_prev  \n",
       "0            []  \n",
       "1             2  \n",
       "2             2  \n",
       "\n",
       "[3 rows x 62 columns]"
      ]
     },
     "execution_count": 43,
     "metadata": {},
     "output_type": "execute_result"
    }
   ],
   "source": [
    "df_temp_agg.head(3)"
   ]
  },
  {
   "cell_type": "code",
   "execution_count": 44,
   "id": "35c0beb2",
   "metadata": {},
   "outputs": [],
   "source": [
    "keep_columns = df_temp_agg.columns[:-2].values.tolist()"
   ]
  },
  {
   "cell_type": "code",
   "execution_count": 45,
   "id": "449ec988",
   "metadata": {
    "scrolled": true
   },
   "outputs": [
    {
     "data": {
      "text/plain": [
       "['ARG221_Anionic',\n",
       " 'ARG221_HBAcceptor',\n",
       " 'ARG221_HBDonor',\n",
       " 'ARG221_Hydrophobic',\n",
       " 'ARG96_Anionic',\n",
       " 'ARG96_HBAcceptor',\n",
       " 'ARG96_Hydrophobic',\n",
       " 'ASN124_Hydrophobic',\n",
       " 'ASP197_Hydrophobic',\n",
       " 'ASP208_Cationic',\n",
       " 'ASP208_HBDonor',\n",
       " 'ASP220_Cationic',\n",
       " 'ASP220_HBDonor',\n",
       " 'ASP220_Hydrophobic',\n",
       " 'ASP95_Hydrophobic',\n",
       " 'CYS127_Hydrophobic',\n",
       " 'CYS202_Hydrophobic',\n",
       " 'CYS273_HBAcceptor',\n",
       " 'CYS273_Hydrophobic',\n",
       " 'GLN249_HBAcceptor',\n",
       " 'GLN249_HBDonor',\n",
       " 'GLN249_Hydrophobic',\n",
       " 'GLU126_Hydrophobic',\n",
       " 'GLU275_Cationic',\n",
       " 'GLU275_HBAcceptor',\n",
       " 'GLU275_HBDonor',\n",
       " 'GLU275_Hydrophobic',\n",
       " 'GLY274_HBAcceptor',\n",
       " 'HIS125_EdgeToFace',\n",
       " 'HIS125_Hydrophobic',\n",
       " 'HIS125_PiStacking',\n",
       " 'HIS248_Hydrophobic',\n",
       " 'HIS66_Hydrophobic',\n",
       " 'HOH402_HBAcceptor',\n",
       " 'HOH8_HBAcceptor',\n",
       " 'ILE130_Hydrophobic',\n",
       " 'ILE133_Hydrophobic',\n",
       " 'LEU205_Hydrophobic',\n",
       " 'MN401_VdWContact',\n",
       " 'PHE225_HBDonor',\n",
       " 'PHE276_Hydrophobic',\n",
       " 'SER224_HBDonor',\n",
       " 'THR226_HBDonor',\n",
       " 'TRP206_EdgeToFace',\n",
       " 'TRP206_HBDonor',\n",
       " 'TRP206_Hydrophobic',\n",
       " 'TRP206_PiStacking',\n",
       " 'TYR134_EdgeToFace',\n",
       " 'TYR134_HBAcceptor',\n",
       " 'TYR134_HBDonor',\n",
       " 'TYR134_Hydrophobic',\n",
       " 'TYR134_PiStacking',\n",
       " 'TYR272_HBAcceptor',\n",
       " 'TYR272_Hydrophobic',\n",
       " 'VAL195_Hydrophobic',\n",
       " 'VAL223_HBAcceptor',\n",
       " 'VAL223_HBDonor',\n",
       " 'VAL223_Hydrophobic',\n",
       " 'VAL250_HBAcceptor',\n",
       " 'VAL250_Hydrophobic']"
      ]
     },
     "execution_count": 45,
     "metadata": {},
     "output_type": "execute_result"
    }
   ],
   "source": [
    "keep_columns"
   ]
  },
  {
   "cell_type": "code",
   "execution_count": null,
   "id": "c1efb7af",
   "metadata": {},
   "outputs": [],
   "source": []
  },
  {
   "cell_type": "code",
   "execution_count": 46,
   "id": "1cc0d9fb",
   "metadata": {},
   "outputs": [],
   "source": [
    "df_ifp_temp = df_temp_agg[keep_columns]\n"
   ]
  },
  {
   "cell_type": "code",
   "execution_count": 47,
   "id": "2868ac88",
   "metadata": {},
   "outputs": [
    {
     "data": {
      "text/html": [
       "<div>\n",
       "<style scoped>\n",
       "    .dataframe tbody tr th:only-of-type {\n",
       "        vertical-align: middle;\n",
       "    }\n",
       "\n",
       "    .dataframe tbody tr th {\n",
       "        vertical-align: top;\n",
       "    }\n",
       "\n",
       "    .dataframe thead th {\n",
       "        text-align: right;\n",
       "    }\n",
       "</style>\n",
       "<table border=\"1\" class=\"dataframe\">\n",
       "  <thead>\n",
       "    <tr style=\"text-align: right;\">\n",
       "      <th></th>\n",
       "      <th>ARG221_Anionic</th>\n",
       "      <th>ARG221_HBAcceptor</th>\n",
       "      <th>ARG221_HBDonor</th>\n",
       "      <th>ARG221_Hydrophobic</th>\n",
       "      <th>ARG96_Anionic</th>\n",
       "      <th>ARG96_HBAcceptor</th>\n",
       "      <th>ARG96_Hydrophobic</th>\n",
       "      <th>ASN124_Hydrophobic</th>\n",
       "      <th>ASP197_Hydrophobic</th>\n",
       "      <th>ASP208_Cationic</th>\n",
       "      <th>...</th>\n",
       "      <th>TYR134_Hydrophobic</th>\n",
       "      <th>TYR134_PiStacking</th>\n",
       "      <th>TYR272_HBAcceptor</th>\n",
       "      <th>TYR272_Hydrophobic</th>\n",
       "      <th>VAL195_Hydrophobic</th>\n",
       "      <th>VAL223_HBAcceptor</th>\n",
       "      <th>VAL223_HBDonor</th>\n",
       "      <th>VAL223_Hydrophobic</th>\n",
       "      <th>VAL250_HBAcceptor</th>\n",
       "      <th>VAL250_Hydrophobic</th>\n",
       "    </tr>\n",
       "  </thead>\n",
       "  <tbody>\n",
       "    <tr>\n",
       "      <th>0</th>\n",
       "      <td>0</td>\n",
       "      <td>1</td>\n",
       "      <td>0</td>\n",
       "      <td>1</td>\n",
       "      <td>1</td>\n",
       "      <td>1</td>\n",
       "      <td>0</td>\n",
       "      <td>0</td>\n",
       "      <td>0</td>\n",
       "      <td>0</td>\n",
       "      <td>...</td>\n",
       "      <td>1</td>\n",
       "      <td>0</td>\n",
       "      <td>1</td>\n",
       "      <td>1</td>\n",
       "      <td>0</td>\n",
       "      <td>0</td>\n",
       "      <td>0</td>\n",
       "      <td>1</td>\n",
       "      <td>0</td>\n",
       "      <td>1</td>\n",
       "    </tr>\n",
       "    <tr>\n",
       "      <th>1</th>\n",
       "      <td>0</td>\n",
       "      <td>1</td>\n",
       "      <td>0</td>\n",
       "      <td>1</td>\n",
       "      <td>1</td>\n",
       "      <td>1</td>\n",
       "      <td>0</td>\n",
       "      <td>0</td>\n",
       "      <td>0</td>\n",
       "      <td>0</td>\n",
       "      <td>...</td>\n",
       "      <td>1</td>\n",
       "      <td>0</td>\n",
       "      <td>1</td>\n",
       "      <td>1</td>\n",
       "      <td>0</td>\n",
       "      <td>0</td>\n",
       "      <td>0</td>\n",
       "      <td>1</td>\n",
       "      <td>0</td>\n",
       "      <td>1</td>\n",
       "    </tr>\n",
       "    <tr>\n",
       "      <th>2</th>\n",
       "      <td>0</td>\n",
       "      <td>0</td>\n",
       "      <td>0</td>\n",
       "      <td>1</td>\n",
       "      <td>1</td>\n",
       "      <td>1</td>\n",
       "      <td>0</td>\n",
       "      <td>0</td>\n",
       "      <td>0</td>\n",
       "      <td>0</td>\n",
       "      <td>...</td>\n",
       "      <td>1</td>\n",
       "      <td>0</td>\n",
       "      <td>1</td>\n",
       "      <td>1</td>\n",
       "      <td>0</td>\n",
       "      <td>0</td>\n",
       "      <td>0</td>\n",
       "      <td>1</td>\n",
       "      <td>0</td>\n",
       "      <td>1</td>\n",
       "    </tr>\n",
       "  </tbody>\n",
       "</table>\n",
       "<p>3 rows × 60 columns</p>\n",
       "</div>"
      ],
      "text/plain": [
       "   ARG221_Anionic  ARG221_HBAcceptor  ARG221_HBDonor  ARG221_Hydrophobic  \\\n",
       "0               0                  1               0                   1   \n",
       "1               0                  1               0                   1   \n",
       "2               0                  0               0                   1   \n",
       "\n",
       "   ARG96_Anionic  ARG96_HBAcceptor  ARG96_Hydrophobic  ASN124_Hydrophobic  \\\n",
       "0              1                 1                  0                   0   \n",
       "1              1                 1                  0                   0   \n",
       "2              1                 1                  0                   0   \n",
       "\n",
       "   ASP197_Hydrophobic  ASP208_Cationic  ...  TYR134_Hydrophobic  \\\n",
       "0                   0                0  ...                   1   \n",
       "1                   0                0  ...                   1   \n",
       "2                   0                0  ...                   1   \n",
       "\n",
       "   TYR134_PiStacking  TYR272_HBAcceptor  TYR272_Hydrophobic  \\\n",
       "0                  0                  1                   1   \n",
       "1                  0                  1                   1   \n",
       "2                  0                  1                   1   \n",
       "\n",
       "   VAL195_Hydrophobic  VAL223_HBAcceptor  VAL223_HBDonor  VAL223_Hydrophobic  \\\n",
       "0                   0                  0               0                   1   \n",
       "1                   0                  0               0                   1   \n",
       "2                   0                  0               0                   1   \n",
       "\n",
       "   VAL250_HBAcceptor  VAL250_Hydrophobic  \n",
       "0                  0                   1  \n",
       "1                  0                   1  \n",
       "2                  0                   1  \n",
       "\n",
       "[3 rows x 60 columns]"
      ]
     },
     "execution_count": 47,
     "metadata": {},
     "output_type": "execute_result"
    }
   ],
   "source": [
    "df_ifp_temp.head(3)"
   ]
  },
  {
   "cell_type": "markdown",
   "id": "bcca9bfc",
   "metadata": {},
   "source": [
    "### Circular plot"
   ]
  },
  {
   "cell_type": "code",
   "execution_count": 48,
   "id": "b9fa156c",
   "metadata": {},
   "outputs": [],
   "source": [
    "outfile = outpath + name_file"
   ]
  },
  {
   "cell_type": "code",
   "execution_count": 49,
   "id": "ddf986e2",
   "metadata": {},
   "outputs": [],
   "source": [
    "all_dfs_dic, colours = aggregate.calculate_lengths_interaction(df_ifp_temp)\n",
    "plot_circle_visualisation(all_dfs_dic, df_ifp_temp.columns.values.tolist(), colours, outfile)"
   ]
  },
  {
   "cell_type": "markdown",
   "id": "06df4d76",
   "metadata": {},
   "source": [
    "### Calculate distances in matrix for aggregated IFP"
   ]
  },
  {
   "cell_type": "code",
   "execution_count": 50,
   "id": "aa9157eb",
   "metadata": {},
   "outputs": [],
   "source": [
    "X = df_ifp_temp.values\n",
    "distances = next(pairwise_distances_chunked(X, n_jobs=-1, metric=diff_function, working_memory=4096))"
   ]
  },
  {
   "cell_type": "code",
   "execution_count": 51,
   "id": "24045476",
   "metadata": {},
   "outputs": [
    {
     "data": {
      "text/plain": [
       "array([[ 0.,  1.,  2., ..., 30., 31., 30.],\n",
       "       [ 1.,  0.,  1., ..., 29., 30., 29.],\n",
       "       [ 2.,  1.,  0., ..., 28., 29., 28.],\n",
       "       ...,\n",
       "       [30., 29., 28., ...,  0.,  1.,  0.],\n",
       "       [31., 30., 29., ...,  1.,  0.,  1.],\n",
       "       [30., 29., 28., ...,  0.,  1.,  0.]])"
      ]
     },
     "execution_count": 51,
     "metadata": {},
     "output_type": "execute_result"
    }
   ],
   "source": [
    "distances"
   ]
  },
  {
   "cell_type": "code",
   "execution_count": 52,
   "id": "bf4df82e",
   "metadata": {},
   "outputs": [],
   "source": [
    "new_ind = df_ifp_temp.reset_index(drop=True)\n",
    "ident_val = calculate_where_diff_zero(distances,new_ind.index.tolist())\n",
    "\n"
   ]
  },
  {
   "cell_type": "code",
   "execution_count": 53,
   "id": "cb29fe07",
   "metadata": {},
   "outputs": [
    {
     "data": {
      "text/plain": [
       "[[10, array([40])],\n",
       " [12, array([16])],\n",
       " [13, array([15])],\n",
       " [18, array([20, 22, 24, 26])],\n",
       " [19, array([21, 23, 25])],\n",
       " [20, array([22, 24, 26])],\n",
       " [21, array([23, 25])],\n",
       " [22, array([24, 26])],\n",
       " [23, array([25])],\n",
       " [24, array([26])],\n",
       " [28, array([32])],\n",
       " [29, array([31])],\n",
       " [45, array([47, 49])],\n",
       " [47, array([49])],\n",
       " [48, array([50])],\n",
       " [58, array([104])],\n",
       " [59, array([61])],\n",
       " [69, array([71, 73, 75])],\n",
       " [70, array([72, 74])],\n",
       " [71, array([73, 75])],\n",
       " [72, array([74])],\n",
       " [73, array([75])],\n",
       " [76, array([78])],\n",
       " [90, array([92, 94])],\n",
       " [91, array([93, 95])],\n",
       " [92, array([94])],\n",
       " [93, array([95])],\n",
       " [99, array([109, 129])],\n",
       " [100, array([102])],\n",
       " [101, array([103])],\n",
       " [105, array([107, 111])],\n",
       " [106, array([112, 114, 126])],\n",
       " [107, array([111])],\n",
       " [108, array([110, 128, 130])],\n",
       " [109, array([129])],\n",
       " [110, array([128, 130])],\n",
       " [112, array([114, 126])],\n",
       " [114, array([126])],\n",
       " [115, array([117, 119, 127])],\n",
       " [116, array([118])],\n",
       " [117, array([119, 127])],\n",
       " [119, array([127])],\n",
       " [120, array([122])],\n",
       " [128, array([130])],\n",
       " [132, array([134])],\n",
       " [133, array([135])],\n",
       " [142, array([144])],\n",
       " [148, array([150, 154, 156])],\n",
       " [149, array([151, 155, 157])],\n",
       " [150, array([154, 156])],\n",
       " [151, array([155, 157])],\n",
       " [152, array([158])],\n",
       " [154, array([156])],\n",
       " [155, array([157])],\n",
       " [182, array([186, 188])],\n",
       " [183, array([185, 189])],\n",
       " [185, array([189])],\n",
       " [186, array([188])],\n",
       " [209, array([211, 287, 337, 339, 341, 343])],\n",
       " [210, array([212, 344])],\n",
       " [211, array([287, 337, 339, 341, 343])],\n",
       " [212, array([344])],\n",
       " [213, array([345])],\n",
       " [216, array([274])],\n",
       " [217, array([273])],\n",
       " [220, array([222, 224])],\n",
       " [221, array([223, 225, 235, 251, 259, 263, 265, 271, 279, 317, 319])],\n",
       " [222, array([224])],\n",
       " [223, array([225, 235, 251, 259, 263, 265, 271, 279, 317, 319])],\n",
       " [225, array([235, 251, 259, 263, 265, 271, 279, 317, 319])],\n",
       " [226, array([228, 230, 232, 258, 260, 264, 318])],\n",
       " [227, array([229, 231, 233, 261, 267])],\n",
       " [228, array([230, 232, 258, 260, 264, 318])],\n",
       " [229, array([231, 233, 261, 267])],\n",
       " [230, array([232, 258, 260, 264, 318])],\n",
       " [231, array([233, 261, 267])],\n",
       " [232, array([258, 260, 264, 318])],\n",
       " [233, array([261, 267])],\n",
       " [234, array([262, 266, 268, 270])],\n",
       " [235, array([251, 259, 263, 265, 271, 279, 317, 319])],\n",
       " [236, array([238, 240, 242, 244, 246, 248, 250, 272, 322])],\n",
       " [237, array([239, 241, 243, 245, 247, 249])],\n",
       " [238, array([240, 242, 244, 246, 248, 250, 272, 322])],\n",
       " [239, array([241, 243, 245, 247, 249])],\n",
       " [240, array([242, 244, 246, 248, 250, 272, 322])],\n",
       " [241, array([243, 245, 247, 249])],\n",
       " [242, array([244, 246, 248, 250, 272, 322])],\n",
       " [243, array([245, 247, 249])],\n",
       " [244, array([246, 248, 250, 272, 322])],\n",
       " [245, array([247, 249])],\n",
       " [246, array([248, 250, 272, 322])],\n",
       " [247, array([249])],\n",
       " [248, array([250, 272, 322])],\n",
       " [250, array([272, 322])],\n",
       " [251, array([259, 263, 265, 271, 279, 317, 319])],\n",
       " [252, array([278])],\n",
       " [255, array([257])],\n",
       " [258, array([260, 264, 318])],\n",
       " [259, array([263, 265, 271, 279, 317, 319])],\n",
       " [260, array([264, 318])],\n",
       " [261, array([267])],\n",
       " [262, array([266, 268, 270])],\n",
       " [263, array([265, 271, 279, 317, 319])],\n",
       " [264, array([318])],\n",
       " [265, array([271, 279, 317, 319])],\n",
       " [266, array([268, 270])],\n",
       " [268, array([270])],\n",
       " [271, array([279, 317, 319])],\n",
       " [272, array([322])],\n",
       " [279, array([317, 319])],\n",
       " [283, array([335])],\n",
       " [287, array([337, 339, 341, 343])],\n",
       " [292, array([294])],\n",
       " [293, array([295])],\n",
       " [296, array([298, 300])],\n",
       " [297, array([299, 301])],\n",
       " [298, array([300])],\n",
       " [299, array([301])],\n",
       " [302, array([304, 306, 308, 310, 332, 334])],\n",
       " [303, array([305, 307, 333])],\n",
       " [304, array([306, 308, 310, 332, 334])],\n",
       " [305, array([307, 333])],\n",
       " [306, array([308, 310, 332, 334])],\n",
       " [307, array([333])],\n",
       " [308, array([310, 332, 334])],\n",
       " [309, array([311, 331])],\n",
       " [310, array([332, 334])],\n",
       " [311, array([331])],\n",
       " [312, array([330])],\n",
       " [313, array([315, 329])],\n",
       " [315, array([329])],\n",
       " [317, array([319])],\n",
       " [324, array([326])],\n",
       " [332, array([334])],\n",
       " [336, array([338, 340, 342])],\n",
       " [337, array([339, 341, 343])],\n",
       " [338, array([340, 342])],\n",
       " [339, array([341, 343])],\n",
       " [340, array([342])],\n",
       " [341, array([343])],\n",
       " [346, array([354, 356])],\n",
       " [347, array([349, 351, 355, 357])],\n",
       " [348, array([350, 352])],\n",
       " [349, array([351, 355, 357])],\n",
       " [350, array([352])],\n",
       " [351, array([355, 357])],\n",
       " [354, array([356])],\n",
       " [355, array([357])],\n",
       " [375, array([377, 379, 389])],\n",
       " [376, array([378])],\n",
       " [377, array([379, 389])],\n",
       " [379, array([389])],\n",
       " [380, array([386])],\n",
       " [381, array([385])],\n",
       " [387, array([399])],\n",
       " [391, array([393, 395, 397])],\n",
       " [392, array([394, 396, 398])],\n",
       " [393, array([395, 397])],\n",
       " [394, array([396, 398])],\n",
       " [395, array([397])],\n",
       " [396, array([398])],\n",
       " [403, array([405, 407])],\n",
       " [404, array([406, 408])],\n",
       " [405, array([407])],\n",
       " [406, array([408])],\n",
       " [410, array([412])],\n",
       " [425, array([433])],\n",
       " [427, array([429, 431])],\n",
       " [429, array([431])],\n",
       " [458, array([460])],\n",
       " [461, array([463, 465, 467, 469])],\n",
       " [462, array([464, 466, 468, 470, 472, 474])],\n",
       " [463, array([465, 467, 469])],\n",
       " [464, array([466, 468, 470, 472, 474])],\n",
       " [465, array([467, 469])],\n",
       " [466, array([468, 470, 472, 474])],\n",
       " [467, array([469])],\n",
       " [468, array([470, 472, 474])],\n",
       " [470, array([472, 474])],\n",
       " [472, array([474])],\n",
       " [477, array([481, 483, 485])],\n",
       " [478, array([480, 484])],\n",
       " [479, array([489])],\n",
       " [480, array([484])],\n",
       " [481, array([483, 485])],\n",
       " [483, array([485])],\n",
       " [493, array([495, 497])],\n",
       " [494, array([496])],\n",
       " [495, array([497])],\n",
       " [500, array([502])],\n",
       " [507, array([513, 517, 519])],\n",
       " [508, array([510, 512, 516, 518])],\n",
       " [509, array([511])],\n",
       " [510, array([512, 516, 518])],\n",
       " [512, array([516, 518])],\n",
       " [513, array([517, 519])],\n",
       " [516, array([518])],\n",
       " [517, array([519])]]"
      ]
     },
     "execution_count": 53,
     "metadata": {},
     "output_type": "execute_result"
    }
   ],
   "source": [
    "ident_val"
   ]
  },
  {
   "cell_type": "code",
   "execution_count": 54,
   "id": "e116f305",
   "metadata": {},
   "outputs": [
    {
     "data": {
      "image/png": "[encoded data removed]",
      "text/plain": [
       "<Figure size 720x864 with 7 Axes>"
      ]
     },
     "metadata": {
      "needs_background": "light"
     },
     "output_type": "display_data"
    }
   ],
   "source": [
    "fig = plot_distance_distribution_sim_hist_line(distances, df_temp_agg[\"occurence\"].values, ident_val, fontsize=17) "
   ]
  },
  {
   "cell_type": "code",
   "execution_count": 55,
   "id": "fb4b62c6",
   "metadata": {},
   "outputs": [],
   "source": [
    "fig.savefig(outpath + name_file + \"_distance_matrix_distribution_similarity_hist.svg\", dpi=600)"
   ]
  },
  {
   "cell_type": "markdown",
   "id": "6a1a9962",
   "metadata": {},
   "source": [
    "### Network visualisation"
   ]
  },
  {
   "cell_type": "code",
   "execution_count": 1,
   "id": "20a9cf18",
   "metadata": {},
   "outputs": [],
   "source": [
    "import networkx as nx\n",
    "import dynetx as dn\n",
    "from IFPAggVis.ifpaggvis.visualise import visualise_network_markers, get_unique_residue_position\n",
    "from IFPAggVis.ifpaggvis.helpers import get_interaction_names, define_existing_edge_in_IFP"
   ]
  },
  {
   "cell_type": "code",
   "execution_count": 58,
   "id": "dc2940ea",
   "metadata": {},
   "outputs": [],
   "source": [
    "prot_residues = df_ifp_temp.columns.values"
   ]
  },
  {
   "cell_type": "code",
   "execution_count": 59,
   "id": "ebf492ea",
   "metadata": {},
   "outputs": [
    {
     "data": {
      "text/plain": [
       "array(['ARG221_Anionic', 'ARG221_HBAcceptor', 'ARG221_HBDonor',\n",
       "       'ARG221_Hydrophobic', 'ARG96_Anionic', 'ARG96_HBAcceptor',\n",
       "       'ARG96_Hydrophobic', 'ASN124_Hydrophobic', 'ASP197_Hydrophobic',\n",
       "       'ASP208_Cationic', 'ASP208_HBDonor', 'ASP220_Cationic',\n",
       "       'ASP220_HBDonor', 'ASP220_Hydrophobic', 'ASP95_Hydrophobic',\n",
       "       'CYS127_Hydrophobic', 'CYS202_Hydrophobic', 'CYS273_HBAcceptor',\n",
       "       'CYS273_Hydrophobic', 'GLN249_HBAcceptor', 'GLN249_HBDonor',\n",
       "       'GLN249_Hydrophobic', 'GLU126_Hydrophobic', 'GLU275_Cationic',\n",
       "       'GLU275_HBAcceptor', 'GLU275_HBDonor', 'GLU275_Hydrophobic',\n",
       "       'GLY274_HBAcceptor', 'HIS125_EdgeToFace', 'HIS125_Hydrophobic',\n",
       "       'HIS125_PiStacking', 'HIS248_Hydrophobic', 'HIS66_Hydrophobic',\n",
       "       'HOH402_HBAcceptor', 'HOH8_HBAcceptor', 'ILE130_Hydrophobic',\n",
       "       'ILE133_Hydrophobic', 'LEU205_Hydrophobic', 'MN401_VdWContact',\n",
       "       'PHE225_HBDonor', 'PHE276_Hydrophobic', 'SER224_HBDonor',\n",
       "       'THR226_HBDonor', 'TRP206_EdgeToFace', 'TRP206_HBDonor',\n",
       "       'TRP206_Hydrophobic', 'TRP206_PiStacking', 'TYR134_EdgeToFace',\n",
       "       'TYR134_HBAcceptor', 'TYR134_HBDonor', 'TYR134_Hydrophobic',\n",
       "       'TYR134_PiStacking', 'TYR272_HBAcceptor', 'TYR272_Hydrophobic',\n",
       "       'VAL195_Hydrophobic', 'VAL223_HBAcceptor', 'VAL223_HBDonor',\n",
       "       'VAL223_Hydrophobic', 'VAL250_HBAcceptor', 'VAL250_Hydrophobic'],\n",
       "      dtype=object)"
      ]
     },
     "execution_count": 59,
     "metadata": {},
     "output_type": "execute_result"
    }
   ],
   "source": [
    "prot_residues"
   ]
  },
  {
   "cell_type": "markdown",
   "id": "f348dce8",
   "metadata": {},
   "source": [
    "If executed, new positions for residue nodes are generated"
   ]
  },
  {
   "cell_type": "code",
   "execution_count": 2,
   "id": "f0828f7c",
   "metadata": {},
   "outputs": [
    {
     "data": {
      "text/plain": [
       "'\\npos_nodes_unique = get_unique_residue_position(prot_residues, \\n                                               outfile = outpath + \"LG\" + str(ligand1) + \"_LG\" + str(ligand2))\\n'"
      ]
     },
     "execution_count": 2,
     "metadata": {},
     "output_type": "execute_result"
    }
   ],
   "source": [
    "'''\n",
    "pos_nodes_unique = get_unique_residue_position(prot_residues, \n",
    "                                               outfile = outpath + \"LG\" + str(ligand1) + \"_LG\" + str(ligand2))\n",
    "'''"
   ]
  },
  {
   "cell_type": "markdown",
   "id": "0fcf344b",
   "metadata": {},
   "source": [
    "Example how to reload generated positions for each residue in NW plot <br>\n",
    "Generated above or in example script: 04-Get-coordinates-for-NW-visualisation-several-MC"
   ]
  },
  {
   "cell_type": "code",
   "execution_count": 60,
   "id": "36de4e7c",
   "metadata": {},
   "outputs": [],
   "source": [
    "import pickle"
   ]
  },
  {
   "cell_type": "code",
   "execution_count": 61,
   "id": "11c99afd",
   "metadata": {},
   "outputs": [],
   "source": [
    "with open('../../data/aggregated_files/LG1_LG2_unique_residue_position.pkl', 'rb') as fp:\n",
    "    pos_nodes_unique = pickle.load(fp)\n",
    "fp.close()"
   ]
  },
  {
   "cell_type": "code",
   "execution_count": 62,
   "id": "047422b8",
   "metadata": {
    "scrolled": true
   },
   "outputs": [
    {
     "data": {
      "text/plain": [
       "{'LIG': (3453.6, 3343.8),\n",
       " 'HIS248': (5910.5, 2358.1),\n",
       " 'ASN219': (2896.4, 18.0),\n",
       " 'ASP210': (1902.8, 6292.0),\n",
       " 'SER224': (5115.7, 2554.5),\n",
       " 'ASN131': (1693.9, 2825.3),\n",
       " 'ARG96': (918.54, 1238.9),\n",
       " 'ARG132': (5888.6, 1328.7),\n",
       " 'TRP206': (2643.3, 613.76),\n",
       " 'ASP208': (4816.3, 402.57),\n",
       " 'ARG221': (3525.1, 699.52),\n",
       " 'GLY222': (46.796, 3170.6),\n",
       " 'CYS202': (6736.8, 2832.3),\n",
       " 'ASP220': (6214.8, 4042.6),\n",
       " 'GLY274': (3744.0, 6357.4),\n",
       " 'GLN249': (4527.5, 1181.3),\n",
       " 'TYR272': (5466.5, 798.88),\n",
       " 'HOH402': (728.6, 5285.2),\n",
       " 'GLU275': (298.95, 4408.4),\n",
       " 'HIS125': (1262.7, 4692.3),\n",
       " 'LEU205': (2468.1, 1958.3),\n",
       " 'PHE276': (1042.4, 1880.0),\n",
       " 'ASN124': (4855.5, 5688.0),\n",
       " 'SER129': (5445.7, 6053.7),\n",
       " 'LEU201': (3169.9, 6678.1),\n",
       " 'GLU126': (4015.6, 88.263),\n",
       " 'TYR134': (6099.4, 5353.1),\n",
       " 'ASP197': (2426.5, 4157.2),\n",
       " 'HIS66': (2032.5, 1010.4),\n",
       " 'CYS127': (6458.5, 1910.2),\n",
       " 'PHE225': (3796.7, 5442.6),\n",
       " 'ILE130': (5017.7, 3626.5),\n",
       " 'PHE267': (1510.8, 638.36),\n",
       " 'CYS273': (2293.9, 5268.3),\n",
       " 'VAL250': (5494.7, 4858.3),\n",
       " 'ILE133': (3922.0, 1895.1),\n",
       " 'MN400': (4127.6, 4540.3),\n",
       " 'HOH8': (4507.3, 6520.9),\n",
       " 'ASP95': (577.15, 3226.0),\n",
       " 'GLU252': (400.14, 2257.5),\n",
       " 'VAL195': (2617.2, 6248.6),\n",
       " 'MN401': (1381.3, 5757.7),\n",
       " 'VAL223': (1093.3, 3822.9),\n",
       " 'THR226': (6581.1, 4580.6),\n",
       " 'PRO196': (6552.5, 3456.6)}"
      ]
     },
     "execution_count": 62,
     "metadata": {},
     "output_type": "execute_result"
    }
   ],
   "source": [
    "pos_nodes_unique"
   ]
  },
  {
   "cell_type": "markdown",
   "id": "84301dcc",
   "metadata": {},
   "source": [
    "##### Define graph for visualisation\n",
    "with all nodes and interaction types"
   ]
  },
  {
   "cell_type": "markdown",
   "id": "9876cbd2",
   "metadata": {},
   "source": [
    "It is important to name ligand LIG, as further processing uses this keyword to access the node. <br>\n",
    "Add ligand node to graph"
   ]
  },
  {
   "cell_type": "code",
   "execution_count": 63,
   "id": "d1fa2d35",
   "metadata": {},
   "outputs": [],
   "source": [
    "ligand_name = \"LIG\""
   ]
  },
  {
   "cell_type": "markdown",
   "id": "44f13538",
   "metadata": {},
   "source": [
    "Define list with protein residues (i.e. interacting residues) that interact with ligand"
   ]
  },
  {
   "cell_type": "code",
   "execution_count": 64,
   "id": "498e5938",
   "metadata": {},
   "outputs": [],
   "source": [
    "col_nodes = range(0,len(prot_residues),1)"
   ]
  },
  {
   "cell_type": "markdown",
   "id": "470f8922",
   "metadata": {},
   "source": [
    "Analyse interacting residues type, put in dictionary for further processing"
   ]
  },
  {
   "cell_type": "code",
   "execution_count": 65,
   "id": "558be2ff",
   "metadata": {},
   "outputs": [],
   "source": [
    "labeldict_int, int_type = get_interaction_names(prot_residues, col_nodes,\n",
    "                                                ligand_name)\n",
    "node_colouring, edge_list = define_existing_edge_in_IFP(df_ifp_temp, ligand_name, col_nodes, 5, 3)\n"
   ]
  },
  {
   "cell_type": "markdown",
   "id": "963e341c",
   "metadata": {},
   "source": [
    "Assign pre-computed residue (node) positions to interactions detected here, as one residue can have multiple interactions with the ligand"
   ]
  },
  {
   "cell_type": "code",
   "execution_count": 66,
   "id": "ffcbd7c4",
   "metadata": {},
   "outputs": [],
   "source": [
    "def get_residue_int_type_position(interactions, pos_nodes_unique):\n",
    "    \n",
    "    position_dic = {}\n",
    "    for key, val in interactions.items():\n",
    "        position_dic [key] = pos_nodes_unique[val]\n",
    "        \n",
    "    return position_dic"
   ]
  },
  {
   "cell_type": "code",
   "execution_count": 67,
   "id": "2f52fbbb",
   "metadata": {},
   "outputs": [],
   "source": [
    "pos_nodes = get_residue_int_type_position(labeldict_int, pos_nodes_unique)"
   ]
  },
  {
   "cell_type": "markdown",
   "id": "3e4aee3a",
   "metadata": {},
   "source": [
    "Define a dynamic graph since IFP contains temporal data with different interactions"
   ]
  },
  {
   "cell_type": "code",
   "execution_count": 68,
   "id": "03c8b8f9",
   "metadata": {},
   "outputs": [],
   "source": [
    "g = dn.DynGraph(edge_removal=True)"
   ]
  },
  {
   "cell_type": "markdown",
   "id": "ed5e69e9",
   "metadata": {},
   "source": [
    "Add different edges of temporal data to dynamic graph"
   ]
  },
  {
   "cell_type": "code",
   "execution_count": 69,
   "id": "e2b6c4c3",
   "metadata": {},
   "outputs": [],
   "source": [
    "i = 0\n",
    "while i < len(edge_list):\n",
    "    g.add_interactions_from(edge_list[i],t=i)\n",
    "    i+=1 "
   ]
  },
  {
   "cell_type": "markdown",
   "id": "f4f9e2b6",
   "metadata": {},
   "source": [
    "Define outfile and save interactions to star graph visualisations.<br>\n",
    "Different options for export are available and default is to also save a plot of occurence of an individual IFP to file.<br>\n",
    "Different interactions are marked with glyphs in the images. <br>"
   ]
  },
  {
   "cell_type": "code",
   "execution_count": 70,
   "id": "e0be24ae",
   "metadata": {},
   "outputs": [],
   "source": [
    "outfile = outpath + name_file + \"_network_\""
   ]
  },
  {
   "cell_type": "code",
   "execution_count": 71,
   "id": "2fad0630",
   "metadata": {},
   "outputs": [
    {
     "data": {
      "text/plain": [
       "'../../data/aggregated_files/visualisations/ligand_1_x1_filter_1_x2_filter_0.2_time_based_aggregation_network_'"
      ]
     },
     "execution_count": 71,
     "metadata": {},
     "output_type": "execute_result"
    }
   ],
   "source": [
    "outfile"
   ]
  },
  {
   "cell_type": "code",
   "execution_count": 72,
   "id": "e356a912",
   "metadata": {},
   "outputs": [],
   "source": [
    "number_nws = len(df_ifp_temp)\n",
    "number_ifps = df_temp_agg[\"occurence\"]\n",
    "occ_ifps = number_ifps#[:number_nws]\n"
   ]
  },
  {
   "cell_type": "code",
   "execution_count": 73,
   "id": "a8c33c74",
   "metadata": {},
   "outputs": [
    {
     "name": "stderr",
     "output_type": "stream",
     "text": [
      "100%|██████████████████████████████████████████████████████████████████████████████████████████████████████████████████████████████████████████████████████████████████████████| 520/520 [01:30<00:00,  5.78it/s]\n"
     ]
    }
   ],
   "source": [
    "visualise_network_markers(number_nws, occ_ifps, g, pos_nodes, node_colouring, labeldict_int, int_type, outfile, False, save_nw = True, axes_nw = False, scale_axis = 0.1, dpi=1200)"
   ]
  },
  {
   "cell_type": "markdown",
   "id": "29c170e3",
   "metadata": {},
   "source": [
    "Sort df by values to check most frequently occuring NWs"
   ]
  },
  {
   "cell_type": "code",
   "execution_count": 74,
   "id": "f3a7f787",
   "metadata": {
    "scrolled": true
   },
   "outputs": [
    {
     "data": {
      "text/html": [
       "<div>\n",
       "<style scoped>\n",
       "    .dataframe tbody tr th:only-of-type {\n",
       "        vertical-align: middle;\n",
       "    }\n",
       "\n",
       "    .dataframe tbody tr th {\n",
       "        vertical-align: top;\n",
       "    }\n",
       "\n",
       "    .dataframe thead th {\n",
       "        text-align: right;\n",
       "    }\n",
       "</style>\n",
       "<table border=\"1\" class=\"dataframe\">\n",
       "  <thead>\n",
       "    <tr style=\"text-align: right;\">\n",
       "      <th></th>\n",
       "      <th>ARG221_Anionic</th>\n",
       "      <th>ARG221_HBAcceptor</th>\n",
       "      <th>ARG221_HBDonor</th>\n",
       "      <th>ARG221_Hydrophobic</th>\n",
       "      <th>ARG96_Anionic</th>\n",
       "      <th>ARG96_HBAcceptor</th>\n",
       "      <th>ARG96_Hydrophobic</th>\n",
       "      <th>ASN124_Hydrophobic</th>\n",
       "      <th>ASP197_Hydrophobic</th>\n",
       "      <th>ASP208_Cationic</th>\n",
       "      <th>...</th>\n",
       "      <th>TYR272_HBAcceptor</th>\n",
       "      <th>TYR272_Hydrophobic</th>\n",
       "      <th>VAL195_Hydrophobic</th>\n",
       "      <th>VAL223_HBAcceptor</th>\n",
       "      <th>VAL223_HBDonor</th>\n",
       "      <th>VAL223_Hydrophobic</th>\n",
       "      <th>VAL250_HBAcceptor</th>\n",
       "      <th>VAL250_Hydrophobic</th>\n",
       "      <th>occurence</th>\n",
       "      <th>diff_to_prev</th>\n",
       "    </tr>\n",
       "  </thead>\n",
       "  <tbody>\n",
       "    <tr>\n",
       "      <th>36</th>\n",
       "      <td>0</td>\n",
       "      <td>0</td>\n",
       "      <td>0</td>\n",
       "      <td>1</td>\n",
       "      <td>1</td>\n",
       "      <td>1</td>\n",
       "      <td>1</td>\n",
       "      <td>0</td>\n",
       "      <td>0</td>\n",
       "      <td>0</td>\n",
       "      <td>...</td>\n",
       "      <td>1</td>\n",
       "      <td>1</td>\n",
       "      <td>0</td>\n",
       "      <td>0</td>\n",
       "      <td>0</td>\n",
       "      <td>1</td>\n",
       "      <td>0</td>\n",
       "      <td>1</td>\n",
       "      <td>1864</td>\n",
       "      <td>2</td>\n",
       "    </tr>\n",
       "    <tr>\n",
       "      <th>507</th>\n",
       "      <td>0</td>\n",
       "      <td>0</td>\n",
       "      <td>0</td>\n",
       "      <td>0</td>\n",
       "      <td>0</td>\n",
       "      <td>0</td>\n",
       "      <td>0</td>\n",
       "      <td>1</td>\n",
       "      <td>1</td>\n",
       "      <td>1</td>\n",
       "      <td>...</td>\n",
       "      <td>0</td>\n",
       "      <td>0</td>\n",
       "      <td>1</td>\n",
       "      <td>0</td>\n",
       "      <td>1</td>\n",
       "      <td>1</td>\n",
       "      <td>1</td>\n",
       "      <td>1</td>\n",
       "      <td>1425</td>\n",
       "      <td>2</td>\n",
       "    </tr>\n",
       "    <tr>\n",
       "      <th>497</th>\n",
       "      <td>0</td>\n",
       "      <td>0</td>\n",
       "      <td>1</td>\n",
       "      <td>0</td>\n",
       "      <td>0</td>\n",
       "      <td>0</td>\n",
       "      <td>0</td>\n",
       "      <td>1</td>\n",
       "      <td>1</td>\n",
       "      <td>1</td>\n",
       "      <td>...</td>\n",
       "      <td>0</td>\n",
       "      <td>0</td>\n",
       "      <td>1</td>\n",
       "      <td>0</td>\n",
       "      <td>1</td>\n",
       "      <td>1</td>\n",
       "      <td>1</td>\n",
       "      <td>1</td>\n",
       "      <td>1042</td>\n",
       "      <td>2</td>\n",
       "    </tr>\n",
       "  </tbody>\n",
       "</table>\n",
       "<p>3 rows × 62 columns</p>\n",
       "</div>"
      ],
      "text/plain": [
       "     ARG221_Anionic  ARG221_HBAcceptor  ARG221_HBDonor  ARG221_Hydrophobic  \\\n",
       "36                0                  0               0                   1   \n",
       "507               0                  0               0                   0   \n",
       "497               0                  0               1                   0   \n",
       "\n",
       "     ARG96_Anionic  ARG96_HBAcceptor  ARG96_Hydrophobic  ASN124_Hydrophobic  \\\n",
       "36               1                 1                  1                   0   \n",
       "507              0                 0                  0                   1   \n",
       "497              0                 0                  0                   1   \n",
       "\n",
       "     ASP197_Hydrophobic  ASP208_Cationic  ...  TYR272_HBAcceptor  \\\n",
       "36                    0                0  ...                  1   \n",
       "507                   1                1  ...                  0   \n",
       "497                   1                1  ...                  0   \n",
       "\n",
       "     TYR272_Hydrophobic  VAL195_Hydrophobic  VAL223_HBAcceptor  \\\n",
       "36                    1                   0                  0   \n",
       "507                   0                   1                  0   \n",
       "497                   0                   1                  0   \n",
       "\n",
       "     VAL223_HBDonor  VAL223_Hydrophobic  VAL250_HBAcceptor  \\\n",
       "36                0                   1                  0   \n",
       "507               1                   1                  1   \n",
       "497               1                   1                  1   \n",
       "\n",
       "     VAL250_Hydrophobic  occurence  diff_to_prev  \n",
       "36                    1       1864             2  \n",
       "507                   1       1425             2  \n",
       "497                   1       1042             2  \n",
       "\n",
       "[3 rows x 62 columns]"
      ]
     },
     "execution_count": 74,
     "metadata": {},
     "output_type": "execute_result"
    }
   ],
   "source": [
    "df_temp_agg.sort_values('occurence',ascending=False).head(3)"
   ]
  },
  {
   "cell_type": "code",
   "execution_count": null,
   "id": "76e9869e",
   "metadata": {},
   "outputs": [],
   "source": []
  },
  {
   "cell_type": "code",
   "execution_count": null,
   "id": "cea0aeab",
   "metadata": {},
   "outputs": [],
   "source": []
  },
  {
   "cell_type": "code",
   "execution_count": null,
   "id": "bfbd3cf7",
   "metadata": {},
   "outputs": [],
   "source": []
  },
  {
   "cell_type": "code",
   "execution_count": null,
   "id": "26c3665b",
   "metadata": {},
   "outputs": [],
   "source": []
  }
 ],
 "metadata": {
  "kernelspec": {
   "display_name": "Python 3 (ipykernel)",
   "language": "python",
   "name": "python3"
  },
  "language_info": {
   "codemirror_mode": {
    "name": "ipython",
    "version": 3
   },
   "file_extension": ".py",
   "mimetype": "text/x-python",
   "name": "python",
   "nbconvert_exporter": "python",
   "pygments_lexer": "ipython3",
   "version": "3.9.7"
  }
 },
 "nbformat": 4,
 "nbformat_minor": 5
}
