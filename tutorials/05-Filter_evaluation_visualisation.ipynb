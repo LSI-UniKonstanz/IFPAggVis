{
 "cells": [
  {
   "cell_type": "markdown",
   "id": "dd4b4b70",
   "metadata": {},
   "source": [
    "# Visualisation of filter influence on IFP Aggregation"
   ]
  },
  {
   "cell_type": "markdown",
   "id": "214455f2",
   "metadata": {},
   "source": [
    "This notebook visualises the influence of x1 and x2 filter on the number of interactions detected and number of IFPs retrieved."
   ]
  },
  {
   "cell_type": "code",
   "execution_count": 28,
   "id": "d078a299",
   "metadata": {},
   "outputs": [],
   "source": [
    "import matplotlib.pyplot as plt\n",
    "import numpy as np\n",
    "import pandas as pd\n",
    "import os"
   ]
  },
  {
   "cell_type": "markdown",
   "id": "6e73db70",
   "metadata": {},
   "source": [
    "Set font sizes for plot"
   ]
  },
  {
   "cell_type": "code",
   "execution_count": 29,
   "id": "ba1bf81a",
   "metadata": {},
   "outputs": [],
   "source": [
    "size = 14\n",
    "plt.rc('font', size = size)\n",
    "plt.rc('axes', titlesize = size) \n",
    "plt.rc('axes', labelsize = size) \n",
    "plt.rc('xtick', labelsize = size)\n",
    "plt.rc('ytick', labelsize = size)\n",
    "plt.rc('legend', fontsize = size)\n",
    "plt.rc('figure', titlesize = size)"
   ]
  },
  {
   "cell_type": "markdown",
   "id": "1a9dd653",
   "metadata": {},
   "source": [
    "Define file names and outputpaths"
   ]
  },
  {
   "cell_type": "code",
   "execution_count": 30,
   "id": "3fcb5176",
   "metadata": {},
   "outputs": [],
   "source": [
    "ligand = \"1\"\n",
    "x1_vals = [0.5,1,2,2.5,5,7.5,10]\n",
    "x2_vals = [0.0,0.01,0.02,0.025,0.05,0.1,0.15,0.2,0.25,0.3,0.35,0.4]\n",
    "\n",
    "file_path = \"../../data/aggregated_files/\"\n",
    "outpath = \"../../data/aggregated_files/visualisations/filter_influence/\"\n",
    "\n",
    "# Check if outpath exists, otherwise create new directory\n",
    "if not os.path.exists(outpath):\n",
    "    os.makedirs(outpath)\n",
    "    print(outpath + \" was created!\")"
   ]
  },
  {
   "cell_type": "markdown",
   "id": "10a1d5aa",
   "metadata": {},
   "source": [
    "Define Colours for plot"
   ]
  },
  {
   "cell_type": "code",
   "execution_count": 31,
   "id": "ee0102ad",
   "metadata": {},
   "outputs": [],
   "source": [
    "cmap = plt.get_cmap('tab20')\n",
    "colors = [cmap(14),cmap(0),cmap(2),cmap(4),cmap(12),cmap(16),cmap(18)]\n"
   ]
  },
  {
   "cell_type": "code",
   "execution_count": 32,
   "id": "0a0748df",
   "metadata": {},
   "outputs": [],
   "source": [
    "outname = outpath + \"ligand_\"+str(ligand)+\"_\"\n",
    "all_int_numbers = []\n",
    "all_ifp_numbers = []\n",
    "all_int_numbers_structure = []\n",
    "all_ifp_numbers_structure = []\n",
    "\n",
    "# Iterate over sliding window sizes\n",
    "for x1_val in x1_vals:\n",
    "    int_numbers = []\n",
    "    ifp_numbers = []\n",
    "    int_numbers_structure = []\n",
    "    ifp_numbers_structure = []\n",
    "    # Iterate over occurrence filter\n",
    "    for x2_val in x2_vals:\n",
    "        # Define file names\n",
    "        file_time = \"ligand_\" + str(ligand) + \"_x1_filter_\" + str(x1_val) + \"_x2_filter_\" + str(x2_val) + \"_time_based_aggregation.csv\"\n",
    "        file_structure = \"ligand_\" + str(ligand) + \"_x1_filter_\" + str(x1_val) + \"_x2_filter_\" + str(x2_val) + \"_interaction_based_aggregation.csv\"\n",
    "        \n",
    "        # Load file\n",
    "        df = pd.read_csv(file_path + \"aggregation_time/\" +file_time, index_col=[0])\n",
    "        df2  = pd.read_csv(file_path + \"aggregation_interaction/\" + file_structure, index_col=[0])\n",
    "\n",
    "        # Save number of interactions and IFPs for temporal and interaction based aggregation \n",
    "        number_interactions = len(df.columns[:-2].values.tolist()) # exclude diff to previous and size\n",
    "        number_ifps = len(df)\n",
    "        int_numbers.append(number_interactions)\n",
    "        ifp_numbers.append(number_ifps)\n",
    "\n",
    "        number_interactions_structure = len(df2.columns[:-2].values.tolist()) # exclude diff to previous and size\n",
    "        number_ifps_structure = len(df2)\n",
    "        int_numbers_structure.append(number_interactions_structure)\n",
    "        ifp_numbers_structure.append(number_ifps_structure)            \n",
    "    # Save results to list for plotting\n",
    "    all_int_numbers.append(int_numbers)\n",
    "    all_ifp_numbers.append(ifp_numbers) \n",
    "    all_int_numbers_structure.append(int_numbers_structure)\n",
    "    all_ifp_numbers_structure.append(ifp_numbers_structure)\n",
    "\n"
   ]
  },
  {
   "cell_type": "markdown",
   "id": "8d927790",
   "metadata": {},
   "source": [
    "Plot number of interactions"
   ]
  },
  {
   "cell_type": "code",
   "execution_count": 33,
   "id": "1a060022",
   "metadata": {},
   "outputs": [
    {
     "name": "stdout",
     "output_type": "stream",
     "text": [
      "[[83, 76, 73, 71, 67, 62, 61, 60, 59, 58, 57, 57], [83, 73, 69, 68, 63, 60, 60, 60, 58, 55, 53, 49], [83, 69, 67, 65, 62, 60, 57, 53, 51, 48, 46, 46], [83, 68, 65, 63, 61, 60, 56, 51, 48, 47, 47, 45], [83, 65, 63, 62, 60, 52, 48, 47, 47, 45, 43, 42], [83, 64, 61, 61, 57, 49, 47, 46, 45, 43, 43, 41], [83, 64, 61, 61, 54, 48, 47, 45, 43, 42, 41, 38]]\n",
      "Number of interactions: \n",
      "[83, 76, 73, 71, 67, 62, 61, 60, 59, 58, 57, 57]\n",
      "[83, 76, 73, 71, 67, 62, 61, 60, 59, 58, 57, 57]\n",
      "----\n",
      "Number of interactions: \n",
      "[83, 73, 69, 68, 63, 60, 60, 60, 58, 55, 53, 49]\n",
      "[83, 73, 69, 68, 63, 60, 60, 60, 58, 55, 53, 49]\n",
      "----\n",
      "Number of interactions: \n",
      "[83, 69, 67, 65, 62, 60, 57, 53, 51, 48, 46, 46]\n",
      "[83, 69, 67, 65, 62, 60, 57, 53, 51, 48, 46, 46]\n",
      "----\n",
      "Number of interactions: \n",
      "[83, 68, 65, 63, 61, 60, 56, 51, 48, 47, 47, 45]\n",
      "[83, 68, 65, 63, 61, 60, 56, 51, 48, 47, 47, 45]\n",
      "----\n",
      "Number of interactions: \n",
      "[83, 65, 63, 62, 60, 52, 48, 47, 47, 45, 43, 42]\n",
      "[83, 65, 63, 62, 60, 52, 48, 47, 47, 45, 43, 42]\n",
      "----\n",
      "Number of interactions: \n",
      "[83, 64, 61, 61, 57, 49, 47, 46, 45, 43, 43, 41]\n",
      "[83, 64, 61, 61, 57, 49, 47, 46, 45, 43, 43, 41]\n",
      "----\n",
      "Number of interactions: \n",
      "[83, 64, 61, 61, 54, 48, 47, 45, 43, 42, 41, 38]\n",
      "[83, 64, 61, 61, 54, 48, 47, 45, 43, 42, 41, 38]\n",
      "----\n"
     ]
    }
   ],
   "source": [
    "fig = plt.figure()\n",
    "\n",
    "i = 0\n",
    "plot_values_x2_vals = [x*100 for x in x2_vals]\n",
    "print(all_int_numbers)\n",
    "\n",
    "# Iterate over different filters and add to one plot\n",
    "while i < len(all_int_numbers):\n",
    "    data = all_int_numbers[i]\n",
    "    data_structure = all_int_numbers_structure[i]\n",
    "    print(\"Number of interactions: \")\n",
    "    print(data)\n",
    "    print(data_structure)\n",
    "    print(\"----\")\n",
    "    plt.plot(plot_values_x2_vals, data, color = colors[i], alpha = 0.7, linestyle = 'solid', label = x1_vals[i])\n",
    "    plt.plot(plot_values_x2_vals, data_structure, color = colors[i], alpha = 1, linestyle = (0,(1,1)),\n",
    "             label = x1_vals[i])\n",
    "    i+=1\n",
    "\n",
    "# Change plot appearance and save to file\n",
    "plt.xlabel(\"Occurence filter (x2)\")\n",
    "plt.ylabel(\"Number of interactions\")\n",
    "plt.xlim(0, 40)            \n",
    "plt.ticklabel_format(style = 'plain')\n",
    "plt.tight_layout()\n",
    "outname_2 = outname + \"number_interactions\" + \".jpg\"\n",
    "plt.savefig(outname_2, dpi = 300)\n",
    "plt.close()\n",
    "\n"
   ]
  },
  {
   "cell_type": "markdown",
   "id": "6e12378e",
   "metadata": {},
   "source": [
    "Plot number of IFPs"
   ]
  },
  {
   "cell_type": "code",
   "execution_count": 34,
   "id": "acb3383c",
   "metadata": {},
   "outputs": [
    {
     "name": "stdout",
     "output_type": "stream",
     "text": [
      "Number of IFPs: \n",
      "[1272, 1189, 1028, 1053, 926, 867, 875, 884, 867, 1059, 1120, 1179]\n",
      "[1184, 949, 808, 796, 664, 557, 517, 493, 514, 537, 566, 574]\n",
      "Number of IFPs: \n",
      "[790, 670, 700, 647, 536, 533, 563, 520, 538, 706, 698, 615]\n",
      "[752, 569, 566, 519, 407, 372, 329, 322, 329, 370, 395, 388]\n",
      "Number of IFPs: \n",
      "[520, 414, 440, 368, 333, 325, 301, 315, 319, 324, 331, 378]\n",
      "[505, 377, 373, 321, 284, 248, 236, 232, 229, 231, 236, 247]\n",
      "Number of IFPs: \n",
      "[417, 364, 345, 353, 286, 318, 261, 260, 288, 296, 324, 446]\n",
      "[398, 334, 290, 284, 255, 243, 216, 200, 207, 198, 201, 215]\n",
      "Number of IFPs: \n",
      "[260, 240, 219, 225, 183, 188, 165, 167, 168, 156, 157, 182]\n",
      "[255, 216, 201, 204, 171, 147, 135, 144, 137, 126, 120, 128]\n",
      "Number of IFPs: \n",
      "[187, 202, 170, 166, 147, 124, 130, 136, 139, 113, 112, 125]\n",
      "[180, 180, 150, 158, 135, 106, 111, 110, 102, 97, 89, 99]\n",
      "Number of IFPs: \n",
      "[152, 150, 143, 145, 131, 98, 119, 95, 83, 85, 91, 139]\n",
      "[147, 140, 135, 135, 112, 95, 101, 88, 79, 74, 74, 78]\n"
     ]
    }
   ],
   "source": [
    "fig = plt.figure()\n",
    "i = 0\n",
    "\n",
    "# Iterate over different filters and add to one plot\n",
    "while i < len(all_ifp_numbers):\n",
    "    data = all_ifp_numbers[i]\n",
    "    data_structure = all_ifp_numbers_structure[i]\n",
    "    print(\"Number of IFPs: \")\n",
    "    print(data)\n",
    "    print(data_structure)\n",
    "    plt.plot(plot_values_x2_vals, data, color = colors[i], alpha = 0.7, linestyle = 'solid', label = x1_vals[i])\n",
    "    plt.plot(plot_values_x2_vals, data_structure, color = colors[i], alpha = 1, linestyle='dotted',\n",
    "             label = x1_vals[i])\n",
    "    i+=1\n",
    "\n",
    "# Change plot appearance and save to file\n",
    "plt.xlabel(\"Occurence filter (x2)\")\n",
    "plt.ylabel(\"Number of IFPs\")\n",
    "plt.xlim(0, 40)\n",
    "plt.ticklabel_format(style = 'plain')\n",
    "plt.tight_layout()\n",
    "outname_2 = outname + \"number_ifps\" + \".jpg\"\n",
    "plt.savefig(outname_2, dpi = 300)\n",
    "plt.close()\n"
   ]
  },
  {
   "cell_type": "code",
   "execution_count": null,
   "id": "cc7a07b0",
   "metadata": {},
   "outputs": [],
   "source": []
  }
 ],
 "metadata": {
  "kernelspec": {
   "display_name": "Python 3 (ipykernel)",
   "language": "python",
   "name": "python3"
  },
  "language_info": {
   "codemirror_mode": {
    "name": "ipython",
    "version": 3
   },
   "file_extension": ".py",
   "mimetype": "text/x-python",
   "name": "python",
   "nbconvert_exporter": "python",
   "pygments_lexer": "ipython3",
   "version": "3.9.7"
  }
 },
 "nbformat": 4,
 "nbformat_minor": 5
}
