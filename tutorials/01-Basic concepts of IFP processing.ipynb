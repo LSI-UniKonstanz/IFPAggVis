{
 "cells": [
  {
   "cell_type": "markdown",
   "id": "ca2f57fb",
   "metadata": {},
   "source": [
    "# Basic concepts IFP processing "
   ]
  },
  {
   "cell_type": "markdown",
   "id": "9c6c33ad",
   "metadata": {},
   "source": [
    "This notebook explains how to use Prolif to generate IFPs from Molecular Dynamics Simulation and how to restructure dataframes for further processing with IFPAggVis.\n",
    "The notebook is based on an example data set provided in the publication, as well as open-source in Zenodo."
   ]
  },
  {
   "cell_type": "code",
   "execution_count": 1,
   "id": "42357037",
   "metadata": {},
   "outputs": [],
   "source": [
    "import MDAnalysis as mda\n",
    "import prolif as plf\n",
    "import pandas as pd\n"
   ]
  },
  {
   "cell_type": "markdown",
   "id": "5f0d510c",
   "metadata": {},
   "source": [
    "#### Assign vdW Radius\n",
    "First, we have to assign a van der Waals Radius to manganese, as this is natively unknown in MDAnalysis."
   ]
  },
  {
   "cell_type": "code",
   "execution_count": 2,
   "id": "6bf151d0",
   "metadata": {},
   "outputs": [],
   "source": [
    "vdw = mda.topology.tables.vdwradii.copy()\n",
    "vdw[\"Mn\"]=vdw[\"MG\"]\n"
   ]
  },
  {
   "cell_type": "markdown",
   "id": "a30bb3bc",
   "metadata": {},
   "source": [
    "Assign ligand name to variable and provide in/outpath"
   ]
  },
  {
   "cell_type": "code",
   "execution_count": 3,
   "id": "42d0b18c",
   "metadata": {},
   "outputs": [],
   "source": [
    "ligand = 1\n",
    "file_path = \"../data/md_data/\"\n",
    "outpath = \"../data/csv_files/\""
   ]
  },
  {
   "cell_type": "markdown",
   "id": "9145eb76",
   "metadata": {},
   "source": [
    "Load MD simulation files in MDAnalysis universe"
   ]
  },
  {
   "cell_type": "code",
   "execution_count": 4,
   "id": "5db53067",
   "metadata": {
    "scrolled": false
   },
   "outputs": [],
   "source": [
    "file_rep1 = file_path + \"replicate1/ligand\" + str(ligand) + \"/complex_cap2/analysis/wholetraj_nopbc_lig\" + str(ligand) + \"_1.xtc\"\n",
    "file_rep2 = file_path + \"replicate2/ligand\" + str(ligand) + \"/complex_cap2/analysis/wholetraj_nopbc_lig\" + str(ligand) + \"_2.xtc\"\n",
    "file_rep3 = file_path + \"replicate3/ligand\" + str(ligand) + \"/complex_cap2/analysis/wholetraj_nopbc_lig\" + str(ligand) + \"_3.xtc\"\n",
    "\n",
    "u = mda.Universe(file_path + \"replicate1/ligand\" + str(ligand) + '/complex_cap2/complex.gro',\n",
    "                 file_rep1, file_rep2, file_rep3)\n"
   ]
  },
  {
   "cell_type": "markdown",
   "id": "5017810e",
   "metadata": {},
   "source": [
    "Assign bonds and elements to structure files and add to universe topology"
   ]
  },
  {
   "cell_type": "code",
   "execution_count": 5,
   "id": "7281c8a5",
   "metadata": {},
   "outputs": [],
   "source": [
    "guessed_bonds = mda.topology.guessers.guess_bonds(u.atoms.atoms, \n",
    "                                                  u.atoms.positions)\n",
    "guessed_elements = mda.topology.guessers.guess_types(u.atoms.names)\n",
    "u.add_TopologyAttr('elements', guessed_elements)\n",
    "u.add_TopologyAttr('bonds', guessed_bonds)\n"
   ]
  },
  {
   "cell_type": "markdown",
   "id": "42346888",
   "metadata": {},
   "source": [
    "### Process residues without vdW..."
   ]
  },
  {
   "cell_type": "markdown",
   "id": "52e3c5e0",
   "metadata": {},
   "source": [
    "Assign name of ligand and atoms of protein to variable"
   ]
  },
  {
   "cell_type": "code",
   "execution_count": 6,
   "id": "b386d009",
   "metadata": {},
   "outputs": [],
   "source": [
    "lig = u.atoms.select_atoms(\"resname LG\" + str(ligand))\n",
    "\n",
    "prot = u.atoms.select_atoms(\"not resname LG\" + str(ligand))\n"
   ]
  },
  {
   "cell_type": "code",
   "execution_count": 7,
   "id": "7c640723",
   "metadata": {},
   "outputs": [
    {
     "name": "stdout",
     "output_type": "stream",
     "text": [
      "<ResidueGroup [<Residue ACE, 6>, <Residue LEU, 7>, <Residue ASN, 8>, ..., <Residue MN, 401>, <Residue HOH, 402>, <Residue HOH, 8>]>\n"
     ]
    }
   ],
   "source": [
    "print(prot.residues)"
   ]
  },
  {
   "cell_type": "markdown",
   "id": "a82a6fe4",
   "metadata": {},
   "source": [
    "Use default interactions, remove VdWContact, since it is the only interaction detected if kept"
   ]
  },
  {
   "cell_type": "code",
   "execution_count": 8,
   "id": "2f229649",
   "metadata": {},
   "outputs": [
    {
     "name": "stdout",
     "output_type": "stream",
     "text": [
      "['Anionic', 'CationPi', 'Cationic', 'EdgeToFace', 'FaceToFace', 'HBAcceptor', 'HBDonor', 'Hydrophobic', 'Interaction', 'MetalAcceptor', 'MetalDonor', 'PiCation', 'PiStacking', 'XBAcceptor', 'XBDonor', '_BaseCationPi', '_BaseHBond', '_BaseIonic', '_BaseMetallic', '_BaseXBond', '_Distance']\n"
     ]
    }
   ],
   "source": [
    "interactions_all = plf.Fingerprint.list_available(show_hidden=True)\n",
    "interactions_all.remove(\"VdWContact\")\n",
    "print(interactions_all)\n"
   ]
  },
  {
   "cell_type": "markdown",
   "id": "8a5303eb",
   "metadata": {},
   "source": [
    "Process interaction fingerprint"
   ]
  },
  {
   "cell_type": "code",
   "execution_count": 9,
   "id": "1ad9b77c",
   "metadata": {},
   "outputs": [
    {
     "data": {
      "application/vnd.jupyter.widget-view+json": {
       "model_id": "8d720ea6d7594e5da76844f6b696c131",
       "version_major": 2,
       "version_minor": 0
      },
      "text/plain": [
       "  0%|          | 0/841 [00:00<?, ?it/s]"
      ]
     },
     "metadata": {},
     "output_type": "display_data"
    },
    {
     "data": {
      "text/plain": [
       "<prolif.fingerprint.Fingerprint: 14 interactions: ['Hydrophobic', 'HBDonor', 'HBAcceptor', 'XBAcceptor', 'XBDonor', 'Cationic', 'Anionic', 'PiCation', 'CationPi', 'PiStacking', 'FaceToFace', 'EdgeToFace', 'MetalDonor', 'MetalAcceptor'] at 0x1da505d8820>"
      ]
     },
     "execution_count": 9,
     "metadata": {},
     "output_type": "execute_result"
    }
   ],
   "source": [
    "fp = plf.Fingerprint(interactions=interactions_all)\n",
    "# Run fingerprint on trajectory\n",
    "fp.run(u.trajectory, lig, prot)\n",
    "\n"
   ]
  },
  {
   "cell_type": "markdown",
   "id": "31061d36",
   "metadata": {},
   "source": [
    "save to file"
   ]
  },
  {
   "cell_type": "code",
   "execution_count": 10,
   "id": "8027562c",
   "metadata": {},
   "outputs": [],
   "source": [
    "df = pd.DataFrame(fp.to_dataframe())\n"
   ]
  },
  {
   "cell_type": "code",
   "execution_count": 11,
   "id": "b9f89a56",
   "metadata": {
    "scrolled": true
   },
   "outputs": [
    {
     "data": {
      "text/html": [
       "<div>\n",
       "<style scoped>\n",
       "    .dataframe tbody tr th:only-of-type {\n",
       "        vertical-align: middle;\n",
       "    }\n",
       "\n",
       "    .dataframe tbody tr th {\n",
       "        vertical-align: top;\n",
       "    }\n",
       "\n",
       "    .dataframe thead tr th {\n",
       "        text-align: left;\n",
       "    }\n",
       "\n",
       "    .dataframe thead tr:last-of-type th {\n",
       "        text-align: right;\n",
       "    }\n",
       "</style>\n",
       "<table border=\"1\" class=\"dataframe\">\n",
       "  <thead>\n",
       "    <tr>\n",
       "      <th>ligand</th>\n",
       "      <th colspan=\"21\" halign=\"left\">LG11</th>\n",
       "    </tr>\n",
       "    <tr>\n",
       "      <th>protein</th>\n",
       "      <th>HOH8</th>\n",
       "      <th>HIS66</th>\n",
       "      <th>ASP95</th>\n",
       "      <th colspan=\"4\" halign=\"left\">ARG96</th>\n",
       "      <th>GLY123</th>\n",
       "      <th>ASN124</th>\n",
       "      <th>HIS125</th>\n",
       "      <th>...</th>\n",
       "      <th colspan=\"2\" halign=\"left\">CYS273</th>\n",
       "      <th colspan=\"2\" halign=\"left\">GLY274</th>\n",
       "      <th colspan=\"4\" halign=\"left\">GLU275</th>\n",
       "      <th>PHE276</th>\n",
       "      <th>HOH402</th>\n",
       "    </tr>\n",
       "    <tr>\n",
       "      <th>interaction</th>\n",
       "      <th>HBAcceptor</th>\n",
       "      <th>Hydrophobic</th>\n",
       "      <th>Hydrophobic</th>\n",
       "      <th>Hydrophobic</th>\n",
       "      <th>HBDonor</th>\n",
       "      <th>HBAcceptor</th>\n",
       "      <th>Anionic</th>\n",
       "      <th>Hydrophobic</th>\n",
       "      <th>Hydrophobic</th>\n",
       "      <th>Hydrophobic</th>\n",
       "      <th>...</th>\n",
       "      <th>Hydrophobic</th>\n",
       "      <th>HBAcceptor</th>\n",
       "      <th>Hydrophobic</th>\n",
       "      <th>HBAcceptor</th>\n",
       "      <th>Hydrophobic</th>\n",
       "      <th>HBDonor</th>\n",
       "      <th>HBAcceptor</th>\n",
       "      <th>Cationic</th>\n",
       "      <th>Hydrophobic</th>\n",
       "      <th>HBAcceptor</th>\n",
       "    </tr>\n",
       "    <tr>\n",
       "      <th>Frame</th>\n",
       "      <th></th>\n",
       "      <th></th>\n",
       "      <th></th>\n",
       "      <th></th>\n",
       "      <th></th>\n",
       "      <th></th>\n",
       "      <th></th>\n",
       "      <th></th>\n",
       "      <th></th>\n",
       "      <th></th>\n",
       "      <th></th>\n",
       "      <th></th>\n",
       "      <th></th>\n",
       "      <th></th>\n",
       "      <th></th>\n",
       "      <th></th>\n",
       "      <th></th>\n",
       "      <th></th>\n",
       "      <th></th>\n",
       "      <th></th>\n",
       "      <th></th>\n",
       "    </tr>\n",
       "  </thead>\n",
       "  <tbody>\n",
       "    <tr>\n",
       "      <th>0</th>\n",
       "      <td>True</td>\n",
       "      <td>False</td>\n",
       "      <td>False</td>\n",
       "      <td>True</td>\n",
       "      <td>False</td>\n",
       "      <td>True</td>\n",
       "      <td>True</td>\n",
       "      <td>False</td>\n",
       "      <td>False</td>\n",
       "      <td>True</td>\n",
       "      <td>...</td>\n",
       "      <td>True</td>\n",
       "      <td>False</td>\n",
       "      <td>True</td>\n",
       "      <td>True</td>\n",
       "      <td>True</td>\n",
       "      <td>False</td>\n",
       "      <td>True</td>\n",
       "      <td>False</td>\n",
       "      <td>False</td>\n",
       "      <td>False</td>\n",
       "    </tr>\n",
       "    <tr>\n",
       "      <th>100</th>\n",
       "      <td>True</td>\n",
       "      <td>False</td>\n",
       "      <td>False</td>\n",
       "      <td>True</td>\n",
       "      <td>False</td>\n",
       "      <td>True</td>\n",
       "      <td>True</td>\n",
       "      <td>False</td>\n",
       "      <td>False</td>\n",
       "      <td>True</td>\n",
       "      <td>...</td>\n",
       "      <td>True</td>\n",
       "      <td>True</td>\n",
       "      <td>False</td>\n",
       "      <td>False</td>\n",
       "      <td>True</td>\n",
       "      <td>False</td>\n",
       "      <td>False</td>\n",
       "      <td>False</td>\n",
       "      <td>True</td>\n",
       "      <td>True</td>\n",
       "    </tr>\n",
       "    <tr>\n",
       "      <th>200</th>\n",
       "      <td>True</td>\n",
       "      <td>False</td>\n",
       "      <td>False</td>\n",
       "      <td>True</td>\n",
       "      <td>False</td>\n",
       "      <td>True</td>\n",
       "      <td>True</td>\n",
       "      <td>False</td>\n",
       "      <td>False</td>\n",
       "      <td>True</td>\n",
       "      <td>...</td>\n",
       "      <td>True</td>\n",
       "      <td>True</td>\n",
       "      <td>False</td>\n",
       "      <td>False</td>\n",
       "      <td>True</td>\n",
       "      <td>False</td>\n",
       "      <td>False</td>\n",
       "      <td>False</td>\n",
       "      <td>True</td>\n",
       "      <td>True</td>\n",
       "    </tr>\n",
       "  </tbody>\n",
       "</table>\n",
       "<p>3 rows × 79 columns</p>\n",
       "</div>"
      ],
      "text/plain": [
       "ligand            LG11                                                         \\\n",
       "protein           HOH8       HIS66       ASP95       ARG96                      \n",
       "interaction HBAcceptor Hydrophobic Hydrophobic Hydrophobic HBDonor HBAcceptor   \n",
       "Frame                                                                           \n",
       "0                 True       False       False        True   False       True   \n",
       "100               True       False       False        True   False       True   \n",
       "200               True       False       False        True   False       True   \n",
       "\n",
       "ligand                                                   ...              \\\n",
       "protein                  GLY123      ASN124      HIS125  ...      CYS273   \n",
       "interaction Anionic Hydrophobic Hydrophobic Hydrophobic  ... Hydrophobic   \n",
       "Frame                                                    ...               \n",
       "0              True       False       False        True  ...        True   \n",
       "100            True       False       False        True  ...        True   \n",
       "200            True       False       False        True  ...        True   \n",
       "\n",
       "ligand                                                                        \\\n",
       "protein                     GLY274                 GLU275                      \n",
       "interaction HBAcceptor Hydrophobic HBAcceptor Hydrophobic HBDonor HBAcceptor   \n",
       "Frame                                                                          \n",
       "0                False        True       True        True   False       True   \n",
       "100               True       False      False        True   False      False   \n",
       "200               True       False      False        True   False      False   \n",
       "\n",
       "ligand                                       \n",
       "protein                   PHE276     HOH402  \n",
       "interaction Cationic Hydrophobic HBAcceptor  \n",
       "Frame                                        \n",
       "0              False       False      False  \n",
       "100            False        True       True  \n",
       "200            False        True       True  \n",
       "\n",
       "[3 rows x 79 columns]"
      ]
     },
     "execution_count": 11,
     "metadata": {},
     "output_type": "execute_result"
    }
   ],
   "source": [
    "df.head(3)"
   ]
  },
  {
   "cell_type": "code",
   "execution_count": 12,
   "id": "d7464f69",
   "metadata": {},
   "outputs": [
    {
     "data": {
      "text/plain": [
       "841"
      ]
     },
     "execution_count": 12,
     "metadata": {},
     "output_type": "execute_result"
    }
   ],
   "source": [
    "len(df)"
   ]
  },
  {
   "cell_type": "markdown",
   "id": "c1ced91e",
   "metadata": {},
   "source": [
    "save IFP df to file"
   ]
  },
  {
   "cell_type": "code",
   "execution_count": 12,
   "id": "0acb8e3f",
   "metadata": {},
   "outputs": [],
   "source": [
    "df.to_csv(outpath+'Interactions_lig' + str(ligand) + '_allreps_wovdw.csv', sep=',')\n"
   ]
  },
  {
   "cell_type": "markdown",
   "id": "af4dbf91",
   "metadata": {},
   "source": [
    "### Process manganese ions with vdW..."
   ]
  },
  {
   "cell_type": "markdown",
   "id": "9976f0c1",
   "metadata": {},
   "source": [
    "since manganese ions might have a van der Waals interaction with MC-LR, we add the interaction seperately...\n",
    "HOH added as atom, since RDKit requires hydrogen bonds which are not present with Mn, but will be removed later on."
   ]
  },
  {
   "cell_type": "code",
   "execution_count": 13,
   "id": "faf4d264",
   "metadata": {},
   "outputs": [
    {
     "name": "stdout",
     "output_type": "stream",
     "text": [
      "<ResidueGroup [<Residue MN, 400>, <Residue MN, 401>, <Residue HOH, 402>, <Residue HOH, 8>]>\n"
     ]
    }
   ],
   "source": [
    "mn = u.atoms.select_atoms(\"resname MN or resname HOH\")\n",
    "print(mn.residues)\n"
   ]
  },
  {
   "cell_type": "markdown",
   "id": "51e05641",
   "metadata": {},
   "source": [
    "Define VdWContact interaction"
   ]
  },
  {
   "cell_type": "code",
   "execution_count": 14,
   "id": "66a3b336",
   "metadata": {},
   "outputs": [],
   "source": [
    "interactions_all = [\"VdWContact\"]"
   ]
  },
  {
   "cell_type": "markdown",
   "id": "07c95ba9",
   "metadata": {},
   "source": [
    "Process interaction fingerprint for Mn ions and HOH"
   ]
  },
  {
   "cell_type": "code",
   "execution_count": 15,
   "id": "27d02198",
   "metadata": {},
   "outputs": [
    {
     "data": {
      "application/vnd.jupyter.widget-view+json": {
       "model_id": "c09da00d58214a2b9e17ad2a47f35253",
       "version_major": 2,
       "version_minor": 0
      },
      "text/plain": [
       "  0%|          | 0/841 [00:00<?, ?it/s]"
      ]
     },
     "metadata": {},
     "output_type": "display_data"
    },
    {
     "data": {
      "text/plain": [
       "<prolif.fingerprint.Fingerprint: 1 interactions: ['VdWContact'] at 0x2268f569ca0>"
      ]
     },
     "execution_count": 15,
     "metadata": {},
     "output_type": "execute_result"
    }
   ],
   "source": [
    "fp_mn = plf.Fingerprint(interactions=interactions_all)\n",
    "fp_mn.run(u.trajectory, lig, mn)"
   ]
  },
  {
   "cell_type": "code",
   "execution_count": 16,
   "id": "b454f20c",
   "metadata": {},
   "outputs": [],
   "source": [
    "df_mn = pd.DataFrame(fp_mn.to_dataframe())"
   ]
  },
  {
   "cell_type": "code",
   "execution_count": 17,
   "id": "1fbbd580",
   "metadata": {},
   "outputs": [
    {
     "data": {
      "text/html": [
       "<div>\n",
       "<style scoped>\n",
       "    .dataframe tbody tr th:only-of-type {\n",
       "        vertical-align: middle;\n",
       "    }\n",
       "\n",
       "    .dataframe tbody tr th {\n",
       "        vertical-align: top;\n",
       "    }\n",
       "\n",
       "    .dataframe thead tr th {\n",
       "        text-align: left;\n",
       "    }\n",
       "\n",
       "    .dataframe thead tr:last-of-type th {\n",
       "        text-align: right;\n",
       "    }\n",
       "</style>\n",
       "<table border=\"1\" class=\"dataframe\">\n",
       "  <thead>\n",
       "    <tr>\n",
       "      <th>ligand</th>\n",
       "      <th colspan=\"4\" halign=\"left\">LG11</th>\n",
       "    </tr>\n",
       "    <tr>\n",
       "      <th>protein</th>\n",
       "      <th>HOH8</th>\n",
       "      <th>MN400</th>\n",
       "      <th>MN401</th>\n",
       "      <th>HOH402</th>\n",
       "    </tr>\n",
       "    <tr>\n",
       "      <th>interaction</th>\n",
       "      <th>VdWContact</th>\n",
       "      <th>VdWContact</th>\n",
       "      <th>VdWContact</th>\n",
       "      <th>VdWContact</th>\n",
       "    </tr>\n",
       "    <tr>\n",
       "      <th>Frame</th>\n",
       "      <th></th>\n",
       "      <th></th>\n",
       "      <th></th>\n",
       "      <th></th>\n",
       "    </tr>\n",
       "  </thead>\n",
       "  <tbody>\n",
       "    <tr>\n",
       "      <th>0</th>\n",
       "      <td>True</td>\n",
       "      <td>False</td>\n",
       "      <td>False</td>\n",
       "      <td>True</td>\n",
       "    </tr>\n",
       "    <tr>\n",
       "      <th>100</th>\n",
       "      <td>True</td>\n",
       "      <td>False</td>\n",
       "      <td>True</td>\n",
       "      <td>True</td>\n",
       "    </tr>\n",
       "    <tr>\n",
       "      <th>200</th>\n",
       "      <td>True</td>\n",
       "      <td>False</td>\n",
       "      <td>False</td>\n",
       "      <td>True</td>\n",
       "    </tr>\n",
       "  </tbody>\n",
       "</table>\n",
       "</div>"
      ],
      "text/plain": [
       "ligand            LG11                                 \n",
       "protein           HOH8      MN400      MN401     HOH402\n",
       "interaction VdWContact VdWContact VdWContact VdWContact\n",
       "Frame                                                  \n",
       "0                 True      False      False       True\n",
       "100               True      False       True       True\n",
       "200               True      False      False       True"
      ]
     },
     "execution_count": 17,
     "metadata": {},
     "output_type": "execute_result"
    }
   ],
   "source": [
    "df_mn.head(3)"
   ]
  },
  {
   "cell_type": "code",
   "execution_count": 18,
   "id": "f8ad2765",
   "metadata": {},
   "outputs": [],
   "source": [
    "df_mn.to_csv(outpath + 'Interactions_lig' + str(ligand) + '_allreps_Mn.csv', sep=',')"
   ]
  },
  {
   "cell_type": "markdown",
   "id": "2c911e21",
   "metadata": {},
   "source": [
    "### Process and Restructure IFP dataframes"
   ]
  },
  {
   "cell_type": "code",
   "execution_count": 21,
   "id": "03ef2a1f",
   "metadata": {},
   "outputs": [],
   "source": [
    "from IFPAggVis.ifpaggvis import helpers"
   ]
  },
  {
   "cell_type": "markdown",
   "id": "ced61b0a",
   "metadata": {},
   "source": [
    "#### process and restructure interactions without VdWContact\n",
    "remove multiindex and replace True/False with 0/1"
   ]
  },
  {
   "cell_type": "code",
   "execution_count": 22,
   "id": "828d7367",
   "metadata": {},
   "outputs": [],
   "source": [
    "df = df.droplevel(\"ligand\", axis=1)\n",
    "df_new = helpers.get_res_names_in_col_index(df)\n",
    "df_new.replace({False: 0, True: 1}, inplace=True)    \n",
    "df_new.to_csv(outpath + \"ligand_\" + str(ligand) + \"_res_based_in_columns.csv\")"
   ]
  },
  {
   "cell_type": "markdown",
   "id": "e50bd5c8",
   "metadata": {},
   "source": [
    "#### process and restructure interactions with VdWContact\n",
    "remove multiindex and replace True/False with 0/1"
   ]
  },
  {
   "cell_type": "code",
   "execution_count": 23,
   "id": "52b2bff1",
   "metadata": {},
   "outputs": [],
   "source": [
    "df_mn = df_mn.droplevel(\"ligand\", axis=1)\n",
    "df_new_mn = helpers.get_res_names_in_col_index(df_mn)\n",
    "df_new_mn.replace({False: 0, True: 1}, inplace=True)    \n",
    "df_new_mn.to_csv(outpath + \"ligand_\" + str(ligand) + \"_res_based_in_columns.csv\")"
   ]
  },
  {
   "cell_type": "markdown",
   "id": "0fb7d375",
   "metadata": {},
   "source": [
    "### Merge IFP dataframes"
   ]
  },
  {
   "cell_type": "code",
   "execution_count": 24,
   "id": "c70fe934",
   "metadata": {},
   "outputs": [],
   "source": [
    "import re"
   ]
  },
  {
   "cell_type": "markdown",
   "id": "603d1d6b",
   "metadata": {},
   "source": [
    "columns of VdW Contact df to list to search them.."
   ]
  },
  {
   "cell_type": "code",
   "execution_count": 25,
   "id": "f31fb064",
   "metadata": {},
   "outputs": [],
   "source": [
    "columns = df_new_mn.columns.values.tolist()"
   ]
  },
  {
   "cell_type": "markdown",
   "id": "fe6aaaec",
   "metadata": {},
   "source": [
    "Select columns with manganese ions"
   ]
  },
  {
   "cell_type": "code",
   "execution_count": 26,
   "id": "6d4d754a",
   "metadata": {},
   "outputs": [],
   "source": [
    "selected_columns = [match for match in columns if \"MN\" in match] "
   ]
  },
  {
   "cell_type": "markdown",
   "id": "96106d13",
   "metadata": {},
   "source": [
    "Merge IFP set of MN with initial IFP set of protein residues by adding vdWContact columns to major df"
   ]
  },
  {
   "cell_type": "code",
   "execution_count": 27,
   "id": "32a8bfbf",
   "metadata": {},
   "outputs": [],
   "source": [
    "for col in selected_columns:\n",
    "    if len(df_new) == len(df_new_mn):\n",
    "        df_new[col] = df_new_mn[col].values\n",
    "    else:\n",
    "        print(\"Mismatch in number of rows! Double check your data.\")\n"
   ]
  },
  {
   "cell_type": "markdown",
   "id": "fd0e8da2",
   "metadata": {},
   "source": [
    "Sort columns according to residue number for further processing"
   ]
  },
  {
   "cell_type": "code",
   "execution_count": 28,
   "id": "d55ba3b5",
   "metadata": {},
   "outputs": [],
   "source": [
    "sorted_cols = sorted(df_new.columns.values.tolist(), key=lambda s: int(re.search(r'\\d+', s).group()))\n"
   ]
  },
  {
   "cell_type": "code",
   "execution_count": 29,
   "id": "39a14784",
   "metadata": {
    "scrolled": true
   },
   "outputs": [
    {
     "data": {
      "text/plain": [
       "['HOH8_HBAcceptor',\n",
       " 'HIS66_Hydrophobic',\n",
       " 'ASP95_Hydrophobic',\n",
       " 'ARG96_Hydrophobic',\n",
       " 'ARG96_HBDonor',\n",
       " 'ARG96_HBAcceptor',\n",
       " 'ARG96_Anionic',\n",
       " 'GLY123_Hydrophobic',\n",
       " 'ASN124_Hydrophobic',\n",
       " 'HIS125_Hydrophobic',\n",
       " 'HIS125_PiStacking',\n",
       " 'HIS125_EdgeToFace',\n",
       " 'GLU126_Hydrophobic',\n",
       " 'CYS127_Hydrophobic',\n",
       " 'SER129_Hydrophobic',\n",
       " 'ILE130_Hydrophobic',\n",
       " 'ILE133_Hydrophobic',\n",
       " 'TYR134_Hydrophobic',\n",
       " 'TYR134_HBDonor',\n",
       " 'TYR134_HBAcceptor',\n",
       " 'VAL195_Hydrophobic',\n",
       " 'PRO196_Hydrophobic',\n",
       " 'ASP197_Hydrophobic',\n",
       " 'CYS202_Hydrophobic',\n",
       " 'CYS202_HBAcceptor',\n",
       " 'TRP206_Hydrophobic',\n",
       " 'TRP206_PiStacking',\n",
       " 'TRP206_EdgeToFace',\n",
       " 'ASP208_Hydrophobic',\n",
       " 'ASP208_HBDonor',\n",
       " 'ASP208_Cationic',\n",
       " 'ASP220_Hydrophobic',\n",
       " 'ASP220_HBDonor',\n",
       " 'ASP220_Cationic',\n",
       " 'ARG221_Hydrophobic',\n",
       " 'ARG221_HBDonor',\n",
       " 'ARG221_HBAcceptor',\n",
       " 'ARG221_Anionic',\n",
       " 'GLY222_Hydrophobic',\n",
       " 'GLY222_HBDonor',\n",
       " 'VAL223_Hydrophobic',\n",
       " 'VAL223_HBDonor',\n",
       " 'SER224_Hydrophobic',\n",
       " 'SER224_HBDonor',\n",
       " 'THR226_Hydrophobic',\n",
       " 'THR226_HBDonor',\n",
       " 'HIS248_Hydrophobic',\n",
       " 'GLN249_Hydrophobic',\n",
       " 'GLN249_HBAcceptor',\n",
       " 'VAL250_Hydrophobic',\n",
       " 'VAL250_HBAcceptor',\n",
       " 'TYR272_Hydrophobic',\n",
       " 'TYR272_HBAcceptor',\n",
       " 'CYS273_Hydrophobic',\n",
       " 'GLY274_Hydrophobic',\n",
       " 'GLY274_HBAcceptor',\n",
       " 'GLU275_Hydrophobic',\n",
       " 'GLU275_HBDonor',\n",
       " 'GLU275_HBAcceptor',\n",
       " 'GLU275_Cationic',\n",
       " 'PHE276_Hydrophobic',\n",
       " 'MN400_VdWContact',\n",
       " 'HOH402_HBAcceptor']"
      ]
     },
     "execution_count": 29,
     "metadata": {},
     "output_type": "execute_result"
    }
   ],
   "source": [
    "sorted_cols"
   ]
  },
  {
   "cell_type": "markdown",
   "id": "a0adb994",
   "metadata": {},
   "source": [
    "Generate new df with ordered columns"
   ]
  },
  {
   "cell_type": "code",
   "execution_count": 31,
   "id": "1cb1010f",
   "metadata": {},
   "outputs": [],
   "source": [
    "df_order = df_new[sorted_cols]"
   ]
  },
  {
   "cell_type": "markdown",
   "id": "cd5a6011",
   "metadata": {},
   "source": [
    "save ordered df to file for further processing"
   ]
  },
  {
   "cell_type": "code",
   "execution_count": 33,
   "id": "4e9f972b",
   "metadata": {},
   "outputs": [],
   "source": [
    "df_order.to_csv(outpath + \"ligand_\" + str(ligand) + \"_res_based_in_columns_merged.csv\")"
   ]
  },
  {
   "cell_type": "markdown",
   "id": "a43b29bf",
   "metadata": {},
   "source": [
    "Correct indices of computed df to only look at well equilibrated part of the simulation. Therefore, the first 30 ns of each simulation are cut off."
   ]
  },
  {
   "cell_type": "code",
   "execution_count": null,
   "id": "e5d70a75",
   "metadata": {},
   "outputs": [],
   "source": [
    "df = pd.read_csv(outpath + \"ligand_\" + str(ligand) + \"_res_based_in_columns_merged.csv\")\n",
    "\n",
    "df.drop(index=df.index[:3000], axis=0, inplace=True)\n",
    "df = df.reset_index(drop=True)\n",
    "df.drop(index=df.index[25000:28000], axis=0, inplace=True)\n",
    "df = df.reset_index(drop=True)\n",
    "df.drop(index=df.index[50000:53000], axis=0, inplace=True)\n",
    "df = df.reset_index(drop=True)\n",
    "print(len(df))\n",
    "\n",
    "df.to_csv(\"ligand_\"+str(ligand)+\"_res_based_in_columns_merged_corrected.csv\",sep=',')\n"
   ]
  }
 ],
 "metadata": {
  "kernelspec": {
   "display_name": "Python 3 (ipykernel)",
   "language": "python",
   "name": "python3"
  },
  "language_info": {
   "codemirror_mode": {
    "name": "ipython",
    "version": 3
   },
   "file_extension": ".py",
   "mimetype": "text/x-python",
   "name": "python",
   "nbconvert_exporter": "python",
   "pygments_lexer": "ipython3",
   "version": "3.9.7"
  }
 },
 "nbformat": 4,
 "nbformat_minor": 5
}
